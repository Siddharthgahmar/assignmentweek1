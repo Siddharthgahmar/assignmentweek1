{
 "cells": [
  {
   "cell_type": "raw",
   "id": "1b32aba1-66cc-4c43-86c5-23455f816b4f",
   "metadata": {},
   "source": [
    "QUES1- Create one variable containing following type of data:\n",
    "(i) string=\"Siddharth\"\n",
    "(ii) list= [1,2,3,\"siddharth\",True]\n",
    "(iii) float=22.45\n",
    "(iv) tuple=(\"ram\",\"shyam\",\"manoj\")"
   ]
  },
  {
   "cell_type": "raw",
   "id": "97b70063-fc74-4115-ad78-aea6ada5c71e",
   "metadata": {},
   "source": [
    "Ques2- Given are some of following variables containing data:\n",
    "(i)var1=''                      # this is an empty string\n",
    "(ii)var2='[DS,ML,Python]'       #this is a string\n",
    "(iii)var3=['DS','ML'.'Python']  #this is a list\n",
    "(iv)var4=1                      #this is an integer"
   ]
  },
  {
   "cell_type": "raw",
   "id": "b27f7d7b-d86c-4576-b89a-852127ecdac5",
   "metadata": {},
   "source": [
    "Ques3- Explain the use of the following operators using an example:\n",
    "(i)/          #this is division operator"
   ]
  },
  {
   "cell_type": "code",
   "execution_count": 2,
   "id": "2e3471d7-160f-46d8-99d5-4ec07da66362",
   "metadata": {},
   "outputs": [
    {
     "name": "stdout",
     "output_type": "stream",
     "text": [
      "3.0\n"
     ]
    }
   ],
   "source": [
    "a=6/2      #example(i)\n",
    "print(a)"
   ]
  },
  {
   "cell_type": "raw",
   "id": "7bb143d8-d06c-43d4-8d3d-53b33ffa49c5",
   "metadata": {},
   "source": [
    "(ii)%           #this is module operator"
   ]
  },
  {
   "cell_type": "code",
   "execution_count": 3,
   "id": "2d027826-2d47-4110-9e4b-9e3cc435f28a",
   "metadata": {},
   "outputs": [
    {
     "name": "stdout",
     "output_type": "stream",
     "text": [
      "0\n"
     ]
    }
   ],
   "source": [
    "b=6%2          #example(ii)\n",
    "print(b)"
   ]
  },
  {
   "cell_type": "raw",
   "id": "d8d653f0-f73c-411d-b066-dbef8a2ec41d",
   "metadata": {},
   "source": [
    "(iii)//         #this is floor division operator"
   ]
  },
  {
   "cell_type": "code",
   "execution_count": 4,
   "id": "05a19916-fab2-4862-b933-051b9f2998c8",
   "metadata": {},
   "outputs": [
    {
     "name": "stdout",
     "output_type": "stream",
     "text": [
      "3\n"
     ]
    }
   ],
   "source": [
    "c=6//2\n",
    "print(c)"
   ]
  },
  {
   "cell_type": "raw",
   "id": "23366194-7d0d-4ec5-a4c0-bd1d91299d7b",
   "metadata": {},
   "source": [
    "(iv)**          #this is exponentiation operator"
   ]
  },
  {
   "cell_type": "code",
   "execution_count": 5,
   "id": "5fbab05f-e899-4fd7-be19-9c56d31d8713",
   "metadata": {},
   "outputs": [
    {
     "name": "stdout",
     "output_type": "stream",
     "text": [
      "343\n"
     ]
    }
   ],
   "source": [
    "d=7**3\n",
    "print(d)"
   ]
  },
  {
   "cell_type": "raw",
   "id": "9adf8b7b-9e80-4b64-8286-953d4c674e6b",
   "metadata": {},
   "source": [
    "Ques4-Create a list of a length 10 of your vchoice containing multiples types of data. Using for loop print the element and its data type."
   ]
  },
  {
   "cell_type": "code",
   "execution_count": 7,
   "id": "82b2f40a-3c17-44f8-8800-80f0425b2d8d",
   "metadata": {},
   "outputs": [
    {
     "name": "stdout",
     "output_type": "stream",
     "text": [
      "<class 'int'>\n",
      "<class 'float'>\n",
      "<class 'bool'>\n",
      "<class 'str'>\n",
      "<class 'str'>\n",
      "<class 'int'>\n",
      "<class 'float'>\n",
      "<class 'float'>\n",
      "<class 'int'>\n",
      "<class 'str'>\n"
     ]
    }
   ],
   "source": [
    "a=[1,22.23,True,\"ajay\",'vinay',56,89.89,9.0,12,\"rahul\"]\n",
    "for i in a :\n",
    "    print(type(i))"
   ]
  },
  {
   "cell_type": "raw",
   "id": "7059d514-2268-4c81-be4e-e07844101cd3",
   "metadata": {},
   "source": [
    "Ques-5 Using a while loop, verify if the number A is purely divisible by number B and if so then how many times it can be divisible."
   ]
  },
  {
   "cell_type": "code",
   "execution_count": 14,
   "id": "8179cd86-466b-4d10-ae32-f64c3f63567b",
   "metadata": {},
   "outputs": [
    {
     "name": "stdout",
     "output_type": "stream",
     "text": [
      "a is divisible by b 1 times\n"
     ]
    }
   ],
   "source": [
    "a=10\n",
    "b=2\n",
    "count=0\n",
    "while a%b==0:\n",
    "    count=count +1\n",
    "    a=a/b\n",
    "if count>0:\n",
    "    print(\"a is divisible by b\",count,\"times\")\n",
    "else:\n",
    "    print(\"a is not divisible by b\")"
   ]
  },
  {
   "cell_type": "raw",
   "id": "ff9d68a7-d2b4-4075-8a62-8581320b8496",
   "metadata": {},
   "source": [
    "Ques-6 Create a list containing 25 int type data. using for loop and if-else condition print if the element is divisible by 3 or not."
   ]
  },
  {
   "cell_type": "code",
   "execution_count": 18,
   "id": "7f12c587-c7b3-40fc-812e-cf4ed4d9889e",
   "metadata": {},
   "outputs": [
    {
     "name": "stdout",
     "output_type": "stream",
     "text": [
      "2  is not divisible by 3\n",
      "3 is divisible by 3\n",
      "5  is not divisible by 3\n",
      "6 is divisible by 3\n",
      "8  is not divisible by 3\n",
      "12 is divisible by 3\n",
      "13  is not divisible by 3\n",
      "15 is divisible by 3\n",
      "17  is not divisible by 3\n",
      "19  is not divisible by 3\n",
      "98.76  is not divisible by 3\n",
      "87 is divisible by 3\n",
      "67  is not divisible by 3\n",
      "56  is not divisible by 3\n",
      "45 is divisible by 3\n",
      "44  is not divisible by 3\n",
      "34  is not divisible by 3\n",
      "26  is not divisible by 3\n",
      "90 is divisible by 3\n",
      "49  is not divisible by 3\n",
      "32  is not divisible by 3\n",
      "10  is not divisible by 3\n",
      "65  is not divisible by 3\n",
      "89  is not divisible by 3\n"
     ]
    }
   ],
   "source": [
    "a=[2,3,5,6,8,12,13,15,17,19,98.76,87,67,56,45,44,34,26,90,49,32,10,65,89]\n",
    "for i in a:\n",
    "    if i%3==0:\n",
    "        print(i,\"is divisible by 3\")\n",
    "    else:\n",
    "        print(i,\" is not divisible by 3\")"
   ]
  },
  {
   "cell_type": "raw",
   "id": "55135cfe-1616-45b3-9f00-fe0b1d22c4c2",
   "metadata": {},
   "source": [
    "Ques-What do you understand about mutable and imutable data types? Give examples for both showing this property.\n",
    "Ans- Mutable means in which we can modify the values in given data\n",
    " ex-Lists and Dictionary\n",
    " Imutable means values can't be changed in given data\n",
    " ex-Strings and Tuple"
   ]
  },
  {
   "cell_type": "code",
   "execution_count": null,
   "id": "d2054212-1e46-4313-abe5-b7ecb701021e",
   "metadata": {},
   "outputs": [],
   "source": []
  },
  {
   "cell_type": "code",
   "execution_count": null,
   "id": "ff36c8a2-f5ef-42b9-8bd7-57e47009560b",
   "metadata": {},
   "outputs": [],
   "source": []
  },
  {
   "cell_type": "code",
   "execution_count": null,
   "id": "e8a94671-1863-4362-b5be-246b69c3bee7",
   "metadata": {},
   "outputs": [],
   "source": []
  }
 ],
 "metadata": {
  "kernelspec": {
   "display_name": "Python 3 (ipykernel)",
   "language": "python",
   "name": "python3"
  },
  "language_info": {
   "codemirror_mode": {
    "name": "ipython",
    "version": 3
   },
   "file_extension": ".py",
   "mimetype": "text/x-python",
   "name": "python",
   "nbconvert_exporter": "python",
   "pygments_lexer": "ipython3",
   "version": "3.10.8"
  }
 },
 "nbformat": 4,
 "nbformat_minor": 5
}
